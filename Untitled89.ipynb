{
  "nbformat": 4,
  "nbformat_minor": 0,
  "metadata": {
    "colab": {
      "name": "Untitled89.ipynb",
      "provenance": [],
      "authorship_tag": "ABX9TyPpWnKyBUR+KNLKmJQwtpOH",
      "include_colab_link": true
    },
    "kernelspec": {
      "name": "python3",
      "display_name": "Python 3"
    },
    "language_info": {
      "name": "python"
    }
  },
  "cells": [
    {
      "cell_type": "markdown",
      "metadata": {
        "id": "view-in-github",
        "colab_type": "text"
      },
      "source": [
        "<a href=\"https://colab.research.google.com/github/emindlg/Python-Workshop/blob/main/Untitled89.ipynb\" target=\"_parent\"><img src=\"https://colab.research.google.com/assets/colab-badge.svg\" alt=\"Open In Colab\"/></a>"
      ]
    },
    {
      "cell_type": "code",
      "execution_count": null,
      "metadata": {
        "id": "GYPu5ud_mYLu"
      },
      "outputs": [],
      "source": [
        "# number = str(input(\"Please enter musical notes: \"))"
      ]
    },
    {
      "cell_type": "code",
      "source": [
        "# def switch(deger):\n",
        "#     case={}\n",
        "#     while True:\n",
        "#         try:\n",
        "\n",
        "#             case = {\n",
        "\n",
        "#                  0: 'DO\\'ın değeri', #Birinci seçenek\n",
        "#                  1: 'RE 1\\'ın değeri', #İkinci seçenek\n",
        "#                  2: 'Mİ 2\\'ın değeri',#Üçüncü seçenek\n",
        "#                  3: 'FA 3\\'ın değeri',#Dördüncü seçenek\n",
        "#                  4: 'SOL 4\\'ın değeri', #Beşinci seçenek\n",
        "#                  5: 'LA 5\\'ın değeri',\n",
        "#                  6: 'Sİ 6\\'ın değeri',\n",
        "#                  7: 'İNCE DO 7\\'ın değeri',\n",
        "                \n",
        "#                  'default':'yanlış bir değer girdiniz' # diğer dillerde olduğu gibi default case değerini oluşturma\n",
        "\n",
        "#             }\n",
        "#             print(case[deger])  # parametreden gelen değeri basıyoruz\n",
        "#             break #programın döngüden çıkmasını sağlıyoruz\n",
        "\n",
        "\n",
        "\n",
        "#         except KeyError:\n",
        "#             print(case['default']) #hatalı giriş olduğu anda default değeri basıyoruz .\n",
        "#             break #programın döngüden çıkmasını sağlıyoruz"
      ],
      "metadata": {
        "id": "YwUkytq4pqLG"
      },
      "execution_count": 3,
      "outputs": []
    },
    {
      "cell_type": "code",
      "source": [
        "def switch(deger):\n",
        "    case={}\n",
        "    while True:\n",
        "        try:\n",
        "\n",
        "            case = {\n",
        "\n",
        "                 'DO' : 1, \n",
        "                 'RE' : 2, \n",
        "                 'Mİ' : 3,\n",
        "                 'FA' : 4,\n",
        "                 'SOL' : 5, \n",
        "                 'LA ' : 6,\n",
        "                 'Sİ' : 7,\n",
        "                 'İNCEDO' : 8,\n",
        "                 'default':'yanlış bir değer girdiniz' \n",
        "\n",
        "            }\n",
        "            print(case[deger])  # parametreden gelen değeri basıyoruz\n",
        "            break #programın döngüden çıkmasını sağlıyoruz\n",
        "\n",
        "\n",
        "\n",
        "        except KeyError:\n",
        "            print(case['default']) #hatalı giriş olduğu anda default değeri basıyoruz .\n",
        "            break #programın döngüden çıkmasını sağlıyoruz\n",
        "        except ValueError:\n",
        "            print(\"Girdiğiniz değer bir nota değil\")\n",
        "            break\n",
        "\n",
        "\n",
        "def main():\n",
        "\n",
        "    while True:\n",
        "      try:\n",
        "         deger = input(\"Lütfen bir nota girin ... : \")\n",
        "         \n",
        "         switch(deger)\n",
        "      except ValueError:\n",
        "         print(\"Girdiğiniz değer bir nota değil\")\n",
        "         continue\n"
      ],
      "metadata": {
        "id": "BmjCm5Alr_Og"
      },
      "execution_count": 48,
      "outputs": []
    },
    {
      "cell_type": "code",
      "source": [
        "main()\n"
      ],
      "metadata": {
        "id": "RVuXd7RItEef"
      },
      "execution_count": null,
      "outputs": []
    }
  ]
}