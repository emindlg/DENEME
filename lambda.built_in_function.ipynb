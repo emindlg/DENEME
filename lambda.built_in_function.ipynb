{
  "nbformat": 4,
  "nbformat_minor": 0,
  "metadata": {
    "colab": {
      "name": "Untitled63.ipynb",
      "provenance": [],
      "authorship_tag": "ABX9TyPtI5GDOJzCHraQViqZqRBX",
      "include_colab_link": true
    },
    "kernelspec": {
      "name": "python3",
      "display_name": "Python 3"
    },
    "language_info": {
      "name": "python"
    }
  },
  "cells": [
    {
      "cell_type": "markdown",
      "metadata": {
        "id": "view-in-github",
        "colab_type": "text"
      },
      "source": [
        "<a href=\"https://colab.research.google.com/github/emindlg/DENEME/blob/main/lambda.built_in_function.ipynb\" target=\"_parent\"><img src=\"https://colab.research.google.com/assets/colab-badge.svg\" alt=\"Open In Colab\"/></a>"
      ]
    },
    {
      "cell_type": "code",
      "metadata": {
        "colab": {
          "base_uri": "https://localhost:8080/",
          "height": 35
        },
        "id": "xBLSGC303TIL",
        "outputId": "8b0fdd6f-7d8b-44b9-86d7-06d77b01688b"
      },
      "source": [
        "(lambda x: \"odd\" if x%2 != 0 else \"even\")(2)"
      ],
      "execution_count": 6,
      "outputs": [
        {
          "output_type": "execute_result",
          "data": {
            "application/vnd.google.colaboratory.intrinsic+json": {
              "type": "string"
            },
            "text/plain": [
              "'even'"
            ]
          },
          "metadata": {},
          "execution_count": 6
        }
      ]
    },
    {
      "cell_type": "code",
      "metadata": {
        "colab": {
          "base_uri": "https://localhost:8080/",
          "height": 35
        },
        "id": "9Vhj4_ue6BSG",
        "outputId": "9db87429-6a43-49b2-b18e-4b4ab7ed2d56"
      },
      "source": [
        "(lambda x: \"odd\" if x%2 != 0 else \"even\")(3)"
      ],
      "execution_count": 7,
      "outputs": [
        {
          "output_type": "execute_result",
          "data": {
            "application/vnd.google.colaboratory.intrinsic+json": {
              "type": "string"
            },
            "text/plain": [
              "'odd'"
            ]
          },
          "metadata": {},
          "execution_count": 7
        }
      ]
    },
    {
      "cell_type": "code",
      "metadata": {
        "colab": {
          "base_uri": "https://localhost:8080/",
          "height": 35
        },
        "id": "le065g-v8VWp",
        "outputId": "7965feec-f106-46bc-80de-ce57b214dce4"
      },
      "source": [
        "(lambda x: x[::-1])(\"alii\")"
      ],
      "execution_count": 15,
      "outputs": [
        {
          "output_type": "execute_result",
          "data": {
            "application/vnd.google.colaboratory.intrinsic+json": {
              "type": "string"
            },
            "text/plain": [
              "'iila'"
            ]
          },
          "metadata": {},
          "execution_count": 15
        }
      ]
    },
    {
      "cell_type": "code",
      "metadata": {
        "colab": {
          "base_uri": "https://localhost:8080/"
        },
        "id": "VgTdh-H88bwJ",
        "outputId": "5916c803-d2b6-476b-a6a2-981daacda4f4"
      },
      "source": [
        "(lambda x: x[::-1])([1, 2, 3, 5])"
      ],
      "execution_count": 16,
      "outputs": [
        {
          "output_type": "execute_result",
          "data": {
            "text/plain": [
              "[5, 3, 2, 1]"
            ]
          },
          "metadata": {},
          "execution_count": 16
        }
      ]
    },
    {
      "cell_type": "code",
      "metadata": {
        "colab": {
          "base_uri": "https://localhost:8080/"
        },
        "id": "XXZXJb1H8kEd",
        "outputId": "5c39a153-b714-4012-865c-512dd44f42c2"
      },
      "source": [
        "(lambda a, b: (a+b)/2)(3, 5)"
      ],
      "execution_count": 17,
      "outputs": [
        {
          "output_type": "execute_result",
          "data": {
            "text/plain": [
              "4.0"
            ]
          },
          "metadata": {},
          "execution_count": 17
        }
      ]
    },
    {
      "cell_type": "code",
      "metadata": {
        "id": "hHKqn2Rp8tyV"
      },
      "source": [
        "lambda x: \"odd\" if x%2 != 0 else \"even\""
      ],
      "execution_count": 18,
      "outputs": []
    },
    {
      "cell_type": "code",
      "metadata": {
        "id": "bD5bouih9aLG"
      },
      "source": [
        "liste = [1, 2, 3, 4, 5, 6]"
      ],
      "execution_count": 19,
      "outputs": []
    },
    {
      "cell_type": "code",
      "metadata": {
        "colab": {
          "base_uri": "https://localhost:8080/"
        },
        "id": "l8WUTShg9gJc",
        "outputId": "c6e22425-8f38-4186-9176-3bfd1a765cd5"
      },
      "source": [
        "for i in liste:\n",
        "  print(i, \":\", (lambda x: \"odd\" if x%2 != 0 else \"even\")(i))"
      ],
      "execution_count": 24,
      "outputs": [
        {
          "output_type": "stream",
          "name": "stdout",
          "text": [
            "1 : odd\n",
            "2 : even\n",
            "3 : odd\n",
            "4 : even\n"
          ]
        }
      ]
    },
    {
      "cell_type": "code",
      "metadata": {
        "id": "bx6BQk6bBLjn"
      },
      "source": [
        "fonksiyon = lambda x: x**2\n",
        "iterable = [1, 2, 3]"
      ],
      "execution_count": 26,
      "outputs": []
    },
    {
      "cell_type": "code",
      "metadata": {
        "id": "RF6gz7yaAHnR"
      },
      "source": [
        "sonuc = map(fonksiyon, iterable)"
      ],
      "execution_count": 27,
      "outputs": []
    },
    {
      "cell_type": "code",
      "metadata": {
        "colab": {
          "base_uri": "https://localhost:8080/"
        },
        "id": "zi1ZeeuIBHlz",
        "outputId": "6b522124-d138-4648-f867-ba0edec73076"
      },
      "source": [
        "print(*sonuc)"
      ],
      "execution_count": 29,
      "outputs": [
        {
          "output_type": "stream",
          "name": "stdout",
          "text": [
            "1 4 9\n"
          ]
        }
      ]
    },
    {
      "cell_type": "code",
      "metadata": {
        "id": "aFd71hueBbA0"
      },
      "source": [
        "def kare(b):\n",
        "  return b**2"
      ],
      "execution_count": 30,
      "outputs": []
    },
    {
      "cell_type": "code",
      "metadata": {
        "colab": {
          "base_uri": "https://localhost:8080/"
        },
        "id": "0aoI36vJFacg",
        "outputId": "1a1d82dc-cf84-4748-f6aa-fd65abb8018b"
      },
      "source": [
        "sonuc2 = map(kare, iterable)\n",
        "print(* sonuc2)"
      ],
      "execution_count": 32,
      "outputs": [
        {
          "output_type": "stream",
          "name": "stdout",
          "text": [
            "1 4 9\n"
          ]
        }
      ]
    },
    {
      "cell_type": "code",
      "metadata": {
        "id": "H6QfzZQUFg5P"
      },
      "source": [
        "nums1 = [9,6,7,4]\n",
        "nums2 = [3,6,5,8]"
      ],
      "execution_count": 33,
      "outputs": []
    },
    {
      "cell_type": "code",
      "metadata": {
        "id": "uiFGch6HHvQH"
      },
      "source": [
        "numbers = list(map(lambda x, y: (x+y)/2, nums1, nums2))"
      ],
      "execution_count": 37,
      "outputs": []
    },
    {
      "cell_type": "code",
      "metadata": {
        "colab": {
          "base_uri": "https://localhost:8080/"
        },
        "id": "Fmi-IXeYIKK1",
        "outputId": "98d25403-fda6-49a2-ac50-26778e98d1ba"
      },
      "source": [
        "numbers"
      ],
      "execution_count": 38,
      "outputs": [
        {
          "output_type": "execute_result",
          "data": {
            "text/plain": [
              "[6.0, 6.0, 6.0, 6.0]"
            ]
          },
          "metadata": {},
          "execution_count": 38
        }
      ]
    },
    {
      "cell_type": "code",
      "metadata": {
        "id": "qvWQRC00IMIU"
      },
      "source": [
        "words1 = [\"you\", \"much\", \"hard\"]\n",
        "words2 = [\"i\", \"you\", \"he\"]\n",
        "words3 = [\"love\", \"ate\", \"works\"]"
      ],
      "execution_count": 49,
      "outputs": []
    },
    {
      "cell_type": "code",
      "metadata": {
        "id": "7JYi78xTJOTV"
      },
      "source": [
        "sonuc = map(lambda x, y, z: y+\" \"+z+\" \"+x, words1, words2, words3)"
      ],
      "execution_count": 53,
      "outputs": []
    },
    {
      "cell_type": "code",
      "metadata": {
        "colab": {
          "base_uri": "https://localhost:8080/"
        },
        "id": "X4nb4C9lJvII",
        "outputId": "d9591c7f-0081-4306-d743-2693a4c7d733"
      },
      "source": [
        "print(*sonuc)"
      ],
      "execution_count": 54,
      "outputs": [
        {
          "output_type": "stream",
          "name": "stdout",
          "text": [
            "i love you you ate much he works hard\n"
          ]
        }
      ]
    },
    {
      "cell_type": "code",
      "metadata": {
        "id": "rTUAJhnnJroF"
      },
      "source": [
        "words = [\"apple\", \"swim\", \"clock\", \"me\", \"kiwi\", \"banana\"]"
      ],
      "execution_count": 55,
      "outputs": []
    },
    {
      "cell_type": "code",
      "metadata": {
        "id": "5ro1SUyyOdGW"
      },
      "source": [
        "kısa_words = (filter(lambda x : len(x) < 5, words))"
      ],
      "execution_count": 72,
      "outputs": []
    },
    {
      "cell_type": "code",
      "metadata": {
        "colab": {
          "base_uri": "https://localhost:8080/"
        },
        "id": "ZTg59fHhQIok",
        "outputId": "8844c3a0-3501-44ec-e8e7-17f9785d1843"
      },
      "source": [
        "print(*kısa_words)"
      ],
      "execution_count": 73,
      "outputs": [
        {
          "output_type": "stream",
          "name": "stdout",
          "text": [
            "swim me kiwi\n"
          ]
        }
      ]
    },
    {
      "cell_type": "code",
      "metadata": {
        "id": "nQpy3F9tRoM9"
      },
      "source": [
        "#yukarıdaki lambda fonksiyonu, yalnızca tek kullanımlıktır."
      ],
      "execution_count": 74,
      "outputs": []
    },
    {
      "cell_type": "code",
      "metadata": {
        "id": "reSeHcqJUCCr"
      },
      "source": [
        "vowel_list = ['a', 'e', 'i', 'o', 'u']\n",
        "first_ten = ['a', 'b', 'c', 'd', 'e', 'f', 'g', 'h', 'i', 'j']"
      ],
      "execution_count": 75,
      "outputs": []
    },
    {
      "cell_type": "code",
      "metadata": {
        "colab": {
          "base_uri": "https://localhost:8080/"
        },
        "id": "_Ytt6R5bUG6b",
        "outputId": "7654c713-1949-438d-add3-2d3ce674d9e9"
      },
      "source": [
        "\"a\" in vowel_list"
      ],
      "execution_count": 76,
      "outputs": [
        {
          "output_type": "execute_result",
          "data": {
            "text/plain": [
              "True"
            ]
          },
          "metadata": {},
          "execution_count": 76
        }
      ]
    },
    {
      "cell_type": "code",
      "metadata": {
        "id": "-o1IVjl0Ujuz"
      },
      "source": [
        "#yukarıdaki form true ya da false için sorgulama yapar"
      ],
      "execution_count": 77,
      "outputs": []
    },
    {
      "cell_type": "code",
      "metadata": {
        "colab": {
          "base_uri": "https://localhost:8080/"
        },
        "id": "nDeP6immUpL8",
        "outputId": "b22a5299-c7ae-419b-ec9e-6cd3360ef480"
      },
      "source": [
        "vowels = filter(lambda x : x in vowel_list, first_ten)\n",
        "print(list(vowels))"
      ],
      "execution_count": 78,
      "outputs": [
        {
          "output_type": "stream",
          "name": "stdout",
          "text": [
            "['a', 'e', 'i']\n"
          ]
        }
      ]
    },
    {
      "cell_type": "code",
      "metadata": {
        "id": "5x69dtQsYq_-"
      },
      "source": [
        ""
      ],
      "execution_count": null,
      "outputs": []
    }
  ]
}