{
  "nbformat": 4,
  "nbformat_minor": 5,
  "metadata": {
    "kernelspec": {
      "display_name": "Python 3",
      "language": "python",
      "name": "python3"
    },
    "language_info": {
      "codemirror_mode": {
        "name": "ipython",
        "version": 3
      },
      "file_extension": ".py",
      "mimetype": "text/x-python",
      "name": "python",
      "nbconvert_exporter": "python",
      "pygments_lexer": "ipython3",
      "version": "3.8.8"
    },
    "colab": {
      "name": "17_PythonBasic_29-November-2021.ipynb",
      "provenance": [],
      "include_colab_link": true
    }
  },
  "cells": [
    {
      "cell_type": "markdown",
      "metadata": {
        "id": "view-in-github",
        "colab_type": "text"
      },
      "source": [
        "<a href=\"https://colab.research.google.com/github/emindlg/DENEME/blob/main/Lambda.17_PythonBasic_29_November_2021.ipynb\" target=\"_parent\"><img src=\"https://colab.research.google.com/assets/colab-badge.svg\" alt=\"Open In Colab\"/></a>"
      ]
    },
    {
      "cell_type": "markdown",
      "metadata": {
        "id": "406f2981"
      },
      "source": [
        "<img src=\"https://docs.google.com/uc?id=14xeXxFrVRjvOoUYWn_GuyE-v84wVzrqr\" class=\"img-fluid\" alt=\"CLRWY\" width=\"400\" height=\"200\">"
      ],
      "id": "406f2981"
    },
    {
      "cell_type": "markdown",
      "metadata": {
        "id": "22263af8"
      },
      "source": [
        "<h1><p style=\"text-align: center; color:darkblue\">Python In-Class, <br>29 November 2021</p><h1>"
      ],
      "id": "22263af8"
    },
    {
      "cell_type": "code",
      "metadata": {
        "id": "dd2803a0",
        "outputId": "9cebe43e-f683-4fd4-9552-d00ee4c64f99"
      },
      "source": [
        "lambda x : \"odd\" if x % 2 != 0 else \"even\""
      ],
      "id": "dd2803a0",
      "execution_count": null,
      "outputs": [
        {
          "data": {
            "text/plain": [
              "<function __main__.<lambda>(x)>"
            ]
          },
          "execution_count": 1,
          "metadata": {},
          "output_type": "execute_result"
        }
      ]
    },
    {
      "cell_type": "code",
      "metadata": {
        "id": "a0ddf63e",
        "outputId": "52d1d410-9ce6-4f0b-b040-187e2f42707f"
      },
      "source": [
        "(lambda x : \"odd\" if x % 2 != 0 else \"even\")(2)"
      ],
      "id": "a0ddf63e",
      "execution_count": null,
      "outputs": [
        {
          "data": {
            "text/plain": [
              "'even'"
            ]
          },
          "execution_count": 2,
          "metadata": {},
          "output_type": "execute_result"
        }
      ]
    },
    {
      "cell_type": "code",
      "metadata": {
        "id": "9eec0f3d",
        "outputId": "e1c7a993-31ad-4edf-c840-63a072e4b0ca"
      },
      "source": [
        "(lambda x : \"odd\" if x % 2 != 0 else \"even\")(3)"
      ],
      "id": "9eec0f3d",
      "execution_count": null,
      "outputs": [
        {
          "data": {
            "text/plain": [
              "'odd'"
            ]
          },
          "execution_count": 3,
          "metadata": {},
          "output_type": "execute_result"
        }
      ]
    },
    {
      "cell_type": "code",
      "metadata": {
        "id": "bd2d76ea",
        "outputId": "0e40b25b-7664-4cc4-e8b7-664a6cebf9c4"
      },
      "source": [
        "(lambda x : x[::-1])(\"aali\")"
      ],
      "id": "bd2d76ea",
      "execution_count": null,
      "outputs": [
        {
          "data": {
            "text/plain": [
              "'ilaa'"
            ]
          },
          "execution_count": 5,
          "metadata": {},
          "output_type": "execute_result"
        }
      ]
    },
    {
      "cell_type": "code",
      "metadata": {
        "id": "b78f662b",
        "outputId": "5367dd94-ae3c-479f-fbf9-7eb5f8eb42bb"
      },
      "source": [
        "(lambda x : x[::-1])([1,2,3])"
      ],
      "id": "b78f662b",
      "execution_count": null,
      "outputs": [
        {
          "data": {
            "text/plain": [
              "[3, 2, 1]"
            ]
          },
          "execution_count": 6,
          "metadata": {},
          "output_type": "execute_result"
        }
      ]
    },
    {
      "cell_type": "code",
      "metadata": {
        "id": "7eb1e60e",
        "outputId": "7e0b6b45-c5b0-45d1-c6d1-a8f8e3a2e58c"
      },
      "source": [
        "(lambda a, b : (a + b) / 2)(3, 5) "
      ],
      "id": "7eb1e60e",
      "execution_count": null,
      "outputs": [
        {
          "data": {
            "text/plain": [
              "4.0"
            ]
          },
          "execution_count": 7,
          "metadata": {},
          "output_type": "execute_result"
        }
      ]
    },
    {
      "cell_type": "code",
      "metadata": {
        "id": "192a89c2"
      },
      "source": [
        "lambda x : \"odd\" if x % 2 != 0 else \"even\""
      ],
      "id": "192a89c2",
      "execution_count": null,
      "outputs": []
    },
    {
      "cell_type": "code",
      "metadata": {
        "id": "4d98517f"
      },
      "source": [
        "sayılar = [1, 2, 3, 4, 5, 6]"
      ],
      "id": "4d98517f",
      "execution_count": null,
      "outputs": []
    },
    {
      "cell_type": "code",
      "metadata": {
        "id": "2cf982f7",
        "outputId": "934ca8a4-69f7-42ed-a41c-04290ac17027"
      },
      "source": [
        "for a in sayılar :\n",
        "    print(a, \":\", (lambda x : \"odd\" if x % 2 != 0 else \"even\")(a))"
      ],
      "id": "2cf982f7",
      "execution_count": null,
      "outputs": [
        {
          "name": "stdout",
          "output_type": "stream",
          "text": [
            "1 : odd\n",
            "2 : even\n",
            "3 : odd\n",
            "4 : even\n",
            "5 : odd\n",
            "6 : even\n"
          ]
        }
      ]
    },
    {
      "cell_type": "code",
      "metadata": {
        "id": "a53190be"
      },
      "source": [
        "finder = lambda x : \"odd\" if x % 2 != 0 else \"even\""
      ],
      "id": "a53190be",
      "execution_count": null,
      "outputs": []
    },
    {
      "cell_type": "code",
      "metadata": {
        "id": "20deafeb",
        "outputId": "1c1ff2d4-cae4-48f8-b687-884829566c8b"
      },
      "source": [
        "print(finder(5))"
      ],
      "id": "20deafeb",
      "execution_count": null,
      "outputs": [
        {
          "name": "stdout",
          "output_type": "stream",
          "text": [
            "odd\n"
          ]
        }
      ]
    },
    {
      "cell_type": "code",
      "metadata": {
        "id": "7db8e84a"
      },
      "source": [
        "reverser = lambda x : x[::-1]"
      ],
      "id": "7db8e84a",
      "execution_count": null,
      "outputs": []
    },
    {
      "cell_type": "code",
      "metadata": {
        "id": "9ae0784b",
        "outputId": "3ce5ae14-6bce-4bcf-cbc8-da82e6157953"
      },
      "source": [
        "reverser([1, 2, 3, 4])"
      ],
      "id": "9ae0784b",
      "execution_count": null,
      "outputs": [
        {
          "data": {
            "text/plain": [
              "[4, 3, 2, 1]"
            ]
          },
          "execution_count": 14,
          "metadata": {},
          "output_type": "execute_result"
        }
      ]
    },
    {
      "cell_type": "code",
      "metadata": {
        "id": "0da4140f"
      },
      "source": [
        "fonksiyon = lambda x : x ** 2\n",
        "iterable = [1, 2, 3]"
      ],
      "id": "0da4140f",
      "execution_count": null,
      "outputs": []
    },
    {
      "cell_type": "code",
      "metadata": {
        "id": "a60d64c8",
        "outputId": "712b39a0-4a89-4135-d30a-237f878d1766"
      },
      "source": [
        "sonuc = map(fonksiyon, iterable)\n",
        "print(* sonuc)"
      ],
      "id": "a60d64c8",
      "execution_count": null,
      "outputs": [
        {
          "name": "stdout",
          "output_type": "stream",
          "text": [
            "1 4 9\n"
          ]
        }
      ]
    },
    {
      "cell_type": "code",
      "metadata": {
        "id": "36d7c2a2"
      },
      "source": [
        "def kare(b) :\n",
        "    return b ** 2"
      ],
      "id": "36d7c2a2",
      "execution_count": null,
      "outputs": []
    },
    {
      "cell_type": "code",
      "metadata": {
        "id": "3fd55033",
        "outputId": "498e0a09-d977-4cc1-82d4-cd087f1536cc"
      },
      "source": [
        "sonuc2 = map(kare, iterable)\n",
        "print(* sonuc2)"
      ],
      "id": "3fd55033",
      "execution_count": null,
      "outputs": [
        {
          "name": "stdout",
          "output_type": "stream",
          "text": [
            "1 4 9\n"
          ]
        }
      ]
    },
    {
      "cell_type": "code",
      "metadata": {
        "id": "1a852729"
      },
      "source": [
        "map()"
      ],
      "id": "1a852729",
      "execution_count": null,
      "outputs": []
    },
    {
      "cell_type": "code",
      "metadata": {
        "id": "87b4fa09"
      },
      "source": [
        "topla = lambda x, y, z : x + y + z"
      ],
      "id": "87b4fa09",
      "execution_count": null,
      "outputs": []
    },
    {
      "cell_type": "code",
      "metadata": {
        "id": "e4748050",
        "outputId": "347cabb4-114b-4334-ef98-aea9d33c3a2c"
      },
      "source": [
        "topla(\"a\", \"l\", \"i\")"
      ],
      "id": "e4748050",
      "execution_count": null,
      "outputs": [
        {
          "data": {
            "text/plain": [
              "'ali'"
            ]
          },
          "execution_count": 20,
          "metadata": {},
          "output_type": "execute_result"
        }
      ]
    },
    {
      "cell_type": "code",
      "metadata": {
        "id": "202fa373"
      },
      "source": [
        "num1 = [9, 6, 7, 4]\n",
        "num2 = [3, 6, 5, 8]"
      ],
      "id": "202fa373",
      "execution_count": null,
      "outputs": []
    },
    {
      "cell_type": "code",
      "metadata": {
        "id": "2e9d139f"
      },
      "source": [
        "func = lambda x, y : (x + y) / 2"
      ],
      "id": "2e9d139f",
      "execution_count": null,
      "outputs": []
    },
    {
      "cell_type": "code",
      "metadata": {
        "id": "91577a51",
        "outputId": "508a23cc-8676-4d53-b576-9e9525910b33"
      },
      "source": [
        "numbers = map(func, num1, num2)\n",
        "print(list(numbers))"
      ],
      "id": "91577a51",
      "execution_count": null,
      "outputs": [
        {
          "name": "stdout",
          "output_type": "stream",
          "text": [
            "[6.0, 6.0, 6.0, 6.0]\n"
          ]
        }
      ]
    },
    {
      "cell_type": "code",
      "metadata": {
        "id": "06686ac2"
      },
      "source": [
        "words = [\"apple\", \"swim\", \"clock\", \"me\", \"kiwi\", \"banana\"]"
      ],
      "id": "06686ac2",
      "execution_count": null,
      "outputs": []
    },
    {
      "cell_type": "code",
      "metadata": {
        "id": "05e1769f",
        "outputId": "6e5bb2fd-649f-4a72-bac3-6ee899509eea"
      },
      "source": [
        "for i in filter(lambda x : len(x) < 5, words) :\n",
        "    print(i)"
      ],
      "id": "05e1769f",
      "execution_count": null,
      "outputs": [
        {
          "name": "stdout",
          "output_type": "stream",
          "text": [
            "swim\n",
            "me\n",
            "kiwi\n"
          ]
        }
      ]
    },
    {
      "cell_type": "code",
      "metadata": {
        "id": "55f12d71"
      },
      "source": [
        "vowel_list = ['a', 'e', 'i', 'o', 'u']\n",
        "first_ten = ['a', 'b', 'c', 'd', 'e', 'f', 'g', 'h', 'i', 'j']"
      ],
      "id": "55f12d71",
      "execution_count": null,
      "outputs": []
    },
    {
      "cell_type": "code",
      "metadata": {
        "id": "5e083a58",
        "outputId": "b7795cce-c129-4206-ebf1-8bc7988ba9ff"
      },
      "source": [
        "\"a\" in vowel_list"
      ],
      "id": "5e083a58",
      "execution_count": null,
      "outputs": [
        {
          "data": {
            "text/plain": [
              "True"
            ]
          },
          "execution_count": 27,
          "metadata": {},
          "output_type": "execute_result"
        }
      ]
    },
    {
      "cell_type": "code",
      "metadata": {
        "id": "a74d49ef",
        "outputId": "e6883675-1fcc-4a3a-bf1c-9d1467525f45"
      },
      "source": [
        "\"b\" in vowel_list"
      ],
      "id": "a74d49ef",
      "execution_count": null,
      "outputs": [
        {
          "data": {
            "text/plain": [
              "False"
            ]
          },
          "execution_count": 28,
          "metadata": {},
          "output_type": "execute_result"
        }
      ]
    },
    {
      "cell_type": "code",
      "metadata": {
        "id": "6dda768f",
        "outputId": "6d8ba369-e461-446c-976e-e34601952345"
      },
      "source": [
        "vowels = filter(lambda x : x in vowel_list, first_ten)\n",
        "print(list(vowels))"
      ],
      "id": "6dda768f",
      "execution_count": null,
      "outputs": [
        {
          "name": "stdout",
          "output_type": "stream",
          "text": [
            "['a', 'e', 'i']\n"
          ]
        }
      ]
    },
    {
      "cell_type": "code",
      "metadata": {
        "id": "3bb87e27"
      },
      "source": [
        "def modular(n) :\n",
        "    return lambda x : x ** n"
      ],
      "id": "3bb87e27",
      "execution_count": null,
      "outputs": []
    },
    {
      "cell_type": "code",
      "metadata": {
        "id": "08a43ec5"
      },
      "source": [
        "karesinial = modular(2)"
      ],
      "id": "08a43ec5",
      "execution_count": null,
      "outputs": []
    },
    {
      "cell_type": "code",
      "metadata": {
        "id": "1ade37d4",
        "outputId": "e1f4a442-1d42-4ed9-afba-3135bb7b0d52"
      },
      "source": [
        "karesinial(3)"
      ],
      "id": "1ade37d4",
      "execution_count": null,
      "outputs": [
        {
          "data": {
            "text/plain": [
              "9"
            ]
          },
          "execution_count": 33,
          "metadata": {},
          "output_type": "execute_result"
        }
      ]
    },
    {
      "cell_type": "code",
      "metadata": {
        "id": "3021b7f6"
      },
      "source": [
        "kupunual = modular(3)"
      ],
      "id": "3021b7f6",
      "execution_count": null,
      "outputs": []
    },
    {
      "cell_type": "code",
      "metadata": {
        "id": "ac54cebf",
        "outputId": "3abf4ba9-e2b3-4421-b0f9-b24b2e3cacb4"
      },
      "source": [
        "kupunual(2)"
      ],
      "id": "ac54cebf",
      "execution_count": null,
      "outputs": [
        {
          "data": {
            "text/plain": [
              "8"
            ]
          },
          "execution_count": 35,
          "metadata": {},
          "output_type": "execute_result"
        }
      ]
    },
    {
      "cell_type": "code",
      "metadata": {
        "id": "00d0d378",
        "outputId": "1816bf24-d68a-4095-f3b3-18a21697428c"
      },
      "source": [
        "(lambda x : print(x, \":)\"))(\"ali\")"
      ],
      "id": "00d0d378",
      "execution_count": null,
      "outputs": [
        {
          "name": "stdout",
          "output_type": "stream",
          "text": [
            "ali :)\n"
          ]
        }
      ]
    },
    {
      "cell_type": "code",
      "metadata": {
        "id": "2fe9958e",
        "outputId": "72b4be01-b162-4b9c-aed5-c2e48c123b27"
      },
      "source": [
        "print(\"ali\", \":)\")"
      ],
      "id": "2fe9958e",
      "execution_count": null,
      "outputs": [
        {
          "name": "stdout",
          "output_type": "stream",
          "text": [
            "ali :)\n"
          ]
        }
      ]
    },
    {
      "cell_type": "code",
      "metadata": {
        "id": "8a5cef61",
        "outputId": "d3f90b19-9c91-4477-8ff9-eb056804672d"
      },
      "source": [
        "(lambda x : print(x, \":(\"))(\"ali\")"
      ],
      "id": "8a5cef61",
      "execution_count": null,
      "outputs": [
        {
          "name": "stdout",
          "output_type": "stream",
          "text": [
            "ali :(\n"
          ]
        }
      ]
    },
    {
      "cell_type": "code",
      "metadata": {
        "id": "5a3af549",
        "outputId": "81d6719d-8f2a-40a3-d920-2f7452e94c6e"
      },
      "source": [
        "(lambda x : print(x, \":|\"))(\"ali\")"
      ],
      "id": "5a3af549",
      "execution_count": null,
      "outputs": [
        {
          "name": "stdout",
          "output_type": "stream",
          "text": [
            "ali :|\n"
          ]
        }
      ]
    },
    {
      "cell_type": "code",
      "metadata": {
        "id": "ce225b7a"
      },
      "source": [
        "def functioner(emoji) :\n",
        "    return lambda x : print(x, emoji)"
      ],
      "id": "ce225b7a",
      "execution_count": null,
      "outputs": []
    },
    {
      "cell_type": "code",
      "metadata": {
        "id": "e1de42f2"
      },
      "source": [
        "myPrint_smile = functioner(\":)\")\n",
        "myPrint_sad = functioner(\":(\")\n",
        "myPrint_neutral = functioner(\":|\")"
      ],
      "id": "e1de42f2",
      "execution_count": null,
      "outputs": []
    },
    {
      "cell_type": "code",
      "metadata": {
        "id": "6f98b881",
        "outputId": "76f25426-8d9b-4a63-d5b5-5b4dc3e9ec3e"
      },
      "source": [
        "myPrint_sad(\"hello\")"
      ],
      "id": "6f98b881",
      "execution_count": null,
      "outputs": [
        {
          "name": "stdout",
          "output_type": "stream",
          "text": [
            "hello :(\n"
          ]
        }
      ]
    },
    {
      "cell_type": "code",
      "metadata": {
        "id": "ec853f67"
      },
      "source": [
        "def function_generator(function_name) :\n",
        "    return lambda x : function_name(x)"
      ],
      "id": "ec853f67",
      "execution_count": null,
      "outputs": []
    },
    {
      "cell_type": "code",
      "metadata": {
        "id": "f6d2da11"
      },
      "source": [
        "# ali_print() --> print()\n",
        "# ali_max() --> max()\n",
        "# ali_bool() --> bool()\n",
        "# ali_sorted() --> sorted()"
      ],
      "id": "f6d2da11",
      "execution_count": null,
      "outputs": []
    },
    {
      "cell_type": "code",
      "metadata": {
        "id": "e3f4a946",
        "outputId": "1d19d14e-ae15-4ade-e08a-f948125f73e5"
      },
      "source": [
        "(lambda x : print(x))(\"ali veli deli\")"
      ],
      "id": "e3f4a946",
      "execution_count": null,
      "outputs": [
        {
          "name": "stdout",
          "output_type": "stream",
          "text": [
            "ali veli deli\n"
          ]
        }
      ]
    },
    {
      "cell_type": "code",
      "metadata": {
        "id": "9d580003",
        "outputId": "3144ae71-f440-4640-9c60-a9620078ae8b"
      },
      "source": [
        "(lambda x : max(x))((1,2,3))"
      ],
      "id": "9d580003",
      "execution_count": null,
      "outputs": [
        {
          "data": {
            "text/plain": [
              "3"
            ]
          },
          "execution_count": 47,
          "metadata": {},
          "output_type": "execute_result"
        }
      ]
    },
    {
      "cell_type": "code",
      "metadata": {
        "id": "062c8dd1",
        "outputId": "a614c854-8c11-4e64-9b30-95a8fa7e46f5"
      },
      "source": [
        "(lambda x : sorted(x))((3,5,1))"
      ],
      "id": "062c8dd1",
      "execution_count": null,
      "outputs": [
        {
          "data": {
            "text/plain": [
              "[1, 3, 5]"
            ]
          },
          "execution_count": 49,
          "metadata": {},
          "output_type": "execute_result"
        }
      ]
    },
    {
      "cell_type": "code",
      "metadata": {
        "id": "0d2f3e8d"
      },
      "source": [
        "joseph_max = function_generator(max)\n",
        "joseph_sorted = function_generator(sorted)"
      ],
      "id": "0d2f3e8d",
      "execution_count": null,
      "outputs": []
    },
    {
      "cell_type": "code",
      "metadata": {
        "id": "3c2492a5",
        "outputId": "e1f60b12-3f94-4a64-88f3-130511d4dd28"
      },
      "source": [
        "joseph_max((2,22,3))"
      ],
      "id": "3c2492a5",
      "execution_count": null,
      "outputs": [
        {
          "data": {
            "text/plain": [
              "22"
            ]
          },
          "execution_count": 52,
          "metadata": {},
          "output_type": "execute_result"
        }
      ]
    },
    {
      "cell_type": "code",
      "metadata": {
        "id": "4ff9f0ca"
      },
      "source": [
        ""
      ],
      "id": "4ff9f0ca",
      "execution_count": null,
      "outputs": []
    },
    {
      "cell_type": "code",
      "metadata": {
        "id": "be8c6006"
      },
      "source": [
        ""
      ],
      "id": "be8c6006",
      "execution_count": null,
      "outputs": []
    }
  ]
}