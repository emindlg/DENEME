{
  "nbformat": 4,
  "nbformat_minor": 0,
  "metadata": {
    "colab": {
      "name": "Untitled34.ipynb",
      "provenance": [],
      "authorship_tag": "ABX9TyMvD/BLUzSHyVZWl0DQAF5W",
      "include_colab_link": true
    },
    "kernelspec": {
      "name": "python3",
      "display_name": "Python 3"
    },
    "language_info": {
      "name": "python"
    }
  },
  "cells": [
    {
      "cell_type": "markdown",
      "metadata": {
        "id": "view-in-github",
        "colab_type": "text"
      },
      "source": [
        "<a href=\"https://colab.research.google.com/github/emindlg/DENEME/blob/main/Untitled34.ipynb\" target=\"_parent\"><img src=\"https://colab.research.google.com/assets/colab-badge.svg\" alt=\"Open In Colab\"/></a>"
      ]
    },
    {
      "cell_type": "code",
      "metadata": {
        "id": "N71AF_iIkXdc"
      },
      "source": [
        "str_x = \"Emma is good devoloper. Emma is a writer\"\n"
      ],
      "execution_count": null,
      "outputs": []
    },
    {
      "cell_type": "code",
      "metadata": {
        "id": "PhQJ7DZBTP2C"
      },
      "source": [
        ""
      ],
      "execution_count": null,
      "outputs": []
    },
    {
      "cell_type": "code",
      "metadata": {
        "id": "xgf8xjs0TR1s"
      },
      "source": [
        ""
      ],
      "execution_count": null,
      "outputs": []
    },
    {
      "cell_type": "code",
      "metadata": {
        "colab": {
          "base_uri": "https://localhost:8080/"
        },
        "id": "TmfK3yiZcmA2",
        "outputId": "d6b3ea95-f7bb-40d6-cee9-4e7f4593ee6a"
      },
      "source": [
        "print(str_x.count(\"Emma\"))\n"
      ],
      "execution_count": null,
      "outputs": [
        {
          "output_type": "stream",
          "name": "stdout",
          "text": [
            "2\n"
          ]
        }
      ]
    },
    {
      "cell_type": "code",
      "metadata": {
        "colab": {
          "base_uri": "https://localhost:8080/"
        },
        "id": "Aa4d-9Odc-xg",
        "outputId": "f96a7366-eea5-4757-c4a5-dbb0bb2f2c30"
      },
      "source": [
        "print(\"Emma appeared {} times\".format(str_x.count(\"Emma\")))"
      ],
      "execution_count": null,
      "outputs": [
        {
          "output_type": "stream",
          "name": "stdout",
          "text": [
            "Emma appeared 2 times\n"
          ]
        }
      ]
    },
    {
      "cell_type": "code",
      "metadata": {
        "colab": {
          "base_uri": "https://localhost:8080/"
        },
        "id": "t7YJ3Q-2fU2O",
        "outputId": "fad4e1ac-65d2-4653-d20f-b7e746fac959"
      },
      "source": [
        "sentence = \"My name is Michelle\"\n",
        "\n",
        "ters_cumle = sentence.split()\n",
        "\n",
        "ters_cumle.reverse()\n",
        "\n",
        "print(ters_cumle)"
      ],
      "execution_count": null,
      "outputs": [
        {
          "output_type": "stream",
          "name": "stdout",
          "text": [
            "['Michelle', 'is', 'name', 'My']\n"
          ]
        }
      ]
    },
    {
      "cell_type": "code",
      "metadata": {
        "colab": {
          "base_uri": "https://localhost:8080/"
        },
        "id": "9jZxUZX8gy9A",
        "outputId": "330ae61e-420d-4ea7-85c2-a26e47cfc436"
      },
      "source": [
        "name = 'My name is Fikret'\n",
        "new_name = name.split()\n",
        "new_name.reverse()\n",
        "print(*new_name)"
      ],
      "execution_count": null,
      "outputs": [
        {
          "output_type": "stream",
          "name": "stdout",
          "text": [
            "Fikret is name My\n"
          ]
        }
      ]
    },
    {
      "cell_type": "code",
      "metadata": {
        "id": "xY2qdc_Fif-h"
      },
      "source": [
        "isim = \"JhonDipPeta\"\n",
        "\n",
        "\n",
        "\n"
      ],
      "execution_count": null,
      "outputs": []
    },
    {
      "cell_type": "code",
      "metadata": {
        "colab": {
          "base_uri": "https://localhost:8080/"
        },
        "id": "YPB9wVg1qQ0t",
        "outputId": "755fbab5-736b-4315-f42e-40fae8520438"
      },
      "source": [
        "print(isim[4:7])"
      ],
      "execution_count": null,
      "outputs": [
        {
          "output_type": "stream",
          "name": "stdout",
          "text": [
            "Dip\n"
          ]
        }
      ]
    },
    {
      "cell_type": "code",
      "metadata": {
        "colab": {
          "base_uri": "https://localhost:8080/",
          "height": 35
        },
        "id": "ZboWpsjtlFeq",
        "outputId": "a67c3336-c100-4549-ed72-434cda3af83a"
      },
      "source": [
        "isim2 = \"JaSonAy\"\n",
        "\n",
        "isim2[2 : 5]"
      ],
      "execution_count": null,
      "outputs": [
        {
          "output_type": "execute_result",
          "data": {
            "application/vnd.google.colaboratory.intrinsic+json": {
              "type": "string"
            },
            "text/plain": [
              "'Son'"
            ]
          },
          "metadata": {},
          "execution_count": 28
        }
      ]
    },
    {
      "cell_type": "code",
      "metadata": {
        "colab": {
          "base_uri": "https://localhost:8080/"
        },
        "id": "vhBR9-Vvm1yp",
        "outputId": "a33a7d71-0def-4d6c-a78b-c77112dd1007"
      },
      "source": [
        "team_list = [[\"beşiktaş\", \"fenerbahçe\", \"galatasaray\", \"trabzon\"]]\n",
        "\n",
        "type(team_list)"
      ],
      "execution_count": null,
      "outputs": [
        {
          "output_type": "execute_result",
          "data": {
            "text/plain": [
              "list"
            ]
          },
          "metadata": {},
          "execution_count": 36
        }
      ]
    },
    {
      "cell_type": "code",
      "metadata": {
        "id": "GyFXXxW_DwpB"
      },
      "source": [
        "text = \"restart\"\n",
        "\n",
        "print(text[1:].replace(\"r\", \"$\"), sep=\"\")"
      ],
      "execution_count": null,
      "outputs": []
    },
    {
      "cell_type": "code",
      "metadata": {
        "id": "5CjxRgYIEB1L"
      },
      "source": [
        "name = (\"Ethan\")\n",
        "age = (\"26\")\n",
        "address = (\"70126 dr. Unit Houston, TX\")\n",
        "\n",
        "print(name, age, adress, sep=\"\\n\")"
      ],
      "execution_count": null,
      "outputs": []
    },
    {
      "cell_type": "code",
      "metadata": {
        "id": "v_F6DpeIFXG7",
        "colab": {
          "base_uri": "https://localhost:8080/"
        },
        "outputId": "ef8e2d44-c8b3-481c-d9fd-a2bf77112cb6"
      },
      "source": [
        "date = \"11/04/2021\"\n",
        "\n",
        "set(date)"
      ],
      "execution_count": null,
      "outputs": [
        {
          "output_type": "execute_result",
          "data": {
            "text/plain": [
              "{'/', '0', '1', '2', '4'}"
            ]
          },
          "metadata": {},
          "execution_count": 1
        }
      ]
    },
    {
      "cell_type": "code",
      "metadata": {
        "colab": {
          "base_uri": "https://localhost:8080/"
        },
        "id": "xkGPxuSjLNw7",
        "outputId": "a62af6c2-c4db-4a7e-fb5a-277d0808a518"
      },
      "source": [
        "{date}"
      ],
      "execution_count": null,
      "outputs": [
        {
          "output_type": "execute_result",
          "data": {
            "text/plain": [
              "{'11/04/2021'}"
            ]
          },
          "metadata": {},
          "execution_count": 2
        }
      ]
    },
    {
      "cell_type": "code",
      "metadata": {
        "colab": {
          "base_uri": "https://localhost:8080/"
        },
        "id": "LTxpKu2-Lgx7",
        "outputId": "67e6d93c-c981-4f0f-8821-0186572d6601"
      },
      "source": [
        "a = set(\"09/01/2021\")\n",
        "b = {\"09/01/2021\"}\n",
        "\n",
        "print(a)\n",
        "print(b)"
      ],
      "execution_count": null,
      "outputs": [
        {
          "output_type": "stream",
          "name": "stdout",
          "text": [
            "{'1', '0', '/', '2', '9'}\n",
            "{'09/01/2021'}\n"
          ]
        }
      ]
    },
    {
      "cell_type": "code",
      "metadata": {
        "colab": {
          "base_uri": "https://localhost:8080/"
        },
        "id": "QoSL_CcIMFzy",
        "outputId": "790b3c48-c6ac-4aae-87a7-c68aa7fd573e"
      },
      "source": [
        "given_list = [1, 2, 3, 3, 3, 3, 4, 5, 5]\n",
        "\n",
        "print(set(given_list))"
      ],
      "execution_count": null,
      "outputs": [
        {
          "output_type": "stream",
          "name": "stdout",
          "text": [
            "{1, 2, 3, 4, 5}\n"
          ]
        }
      ]
    },
    {
      "cell_type": "code",
      "metadata": {
        "id": "UTIc_6XlM_TB"
      },
      "source": [
        "usa = set(\"washington\")"
      ],
      "execution_count": null,
      "outputs": []
    },
    {
      "cell_type": "code",
      "metadata": {
        "id": "AOjG1FUUNMs8"
      },
      "source": [
        "nz = set(\"wellington\")"
      ],
      "execution_count": null,
      "outputs": []
    },
    {
      "cell_type": "code",
      "metadata": {
        "colab": {
          "base_uri": "https://localhost:8080/"
        },
        "id": "WE88olDvNQwq",
        "outputId": "7777c354-b341-434a-cda7-c3a701b679f3"
      },
      "source": [
        "usa - nz"
      ],
      "execution_count": null,
      "outputs": [
        {
          "output_type": "execute_result",
          "data": {
            "text/plain": [
              "{'a', 'h', 's'}"
            ]
          },
          "metadata": {},
          "execution_count": 7
        }
      ]
    },
    {
      "cell_type": "code",
      "metadata": {
        "colab": {
          "base_uri": "https://localhost:8080/"
        },
        "id": "Mtr4-vnWNTei",
        "outputId": "9aca35df-0228-4503-f0bb-b36554a050a4"
      },
      "source": [
        "nz - usa"
      ],
      "execution_count": null,
      "outputs": [
        {
          "output_type": "execute_result",
          "data": {
            "text/plain": [
              "{'e', 'l'}"
            ]
          },
          "metadata": {},
          "execution_count": 8
        }
      ]
    },
    {
      "cell_type": "code",
      "metadata": {
        "colab": {
          "base_uri": "https://localhost:8080/"
        },
        "id": "EkhG_L1rNWsS",
        "outputId": "cbfda55e-ac2b-49ac-e9b0-f52b11f6b438"
      },
      "source": [
        "usa & nz"
      ],
      "execution_count": null,
      "outputs": [
        {
          "output_type": "execute_result",
          "data": {
            "text/plain": [
              "{'g', 'i', 'n', 'o', 't', 'w'}"
            ]
          },
          "metadata": {},
          "execution_count": 9
        }
      ]
    },
    {
      "cell_type": "code",
      "metadata": {
        "colab": {
          "base_uri": "https://localhost:8080/"
        },
        "id": "EYsW_BwuNjZC",
        "outputId": "e36128f5-d711-4157-cae3-a7fef9dad313"
      },
      "source": [
        "usa | nz"
      ],
      "execution_count": null,
      "outputs": [
        {
          "output_type": "execute_result",
          "data": {
            "text/plain": [
              "{'a', 'e', 'g', 'h', 'i', 'l', 'n', 'o', 's', 't', 'w'}"
            ]
          },
          "metadata": {},
          "execution_count": 10
        }
      ]
    },
    {
      "cell_type": "code",
      "metadata": {
        "id": "vWO4Git2N6lq"
      },
      "source": [
        "minced = True\n",
        "bread = True\n",
        "lettuce = True\n",
        "onion = True\n",
        "Grocer = True"
      ],
      "execution_count": null,
      "outputs": []
    },
    {
      "cell_type": "code",
      "metadata": {
        "id": "jIn4k0WSYf8H"
      },
      "source": [
        "hamburger = minced and bread and lettuce and onion and Grocer\n"
      ],
      "execution_count": null,
      "outputs": []
    },
    {
      "cell_type": "code",
      "metadata": {
        "colab": {
          "base_uri": "https://localhost:8080/"
        },
        "id": "f0FTiaxPZKKp",
        "outputId": "ae2d4546-7ff4-4d07-ec73-dcdb290de35b"
      },
      "source": [
        "hamburger"
      ],
      "execution_count": null,
      "outputs": [
        {
          "output_type": "execute_result",
          "data": {
            "text/plain": [
              "True"
            ]
          },
          "metadata": {},
          "execution_count": 13
        }
      ]
    },
    {
      "cell_type": "code",
      "metadata": {
        "colab": {
          "base_uri": "https://localhost:8080/"
        },
        "id": "PXrlPnq1ZOEa",
        "outputId": "506cf0a4-d615-46d5-d4d2-f2493ce7680f"
      },
      "source": [
        "if hamburger:\n",
        "    print(\"Bon Appetite\")  "
      ],
      "execution_count": null,
      "outputs": [
        {
          "output_type": "stream",
          "name": "stdout",
          "text": [
            "Bon Appetite\n"
          ]
        }
      ]
    },
    {
      "cell_type": "code",
      "metadata": {
        "colab": {
          "base_uri": "https://localhost:8080/"
        },
        "id": "rV_QkrqfZVzC",
        "outputId": "c48933ba-c56d-4ed6-8624-d1cbc1646159"
      },
      "source": [
        "a = set(\"TWELVE PLUS ONE\")\n",
        "b = set(\"ELEVEN PLUS TWO\")\n",
        "\n",
        "a == b "
      ],
      "execution_count": null,
      "outputs": [
        {
          "output_type": "execute_result",
          "data": {
            "text/plain": [
              "True"
            ]
          },
          "metadata": {},
          "execution_count": 15
        }
      ]
    },
    {
      "cell_type": "code",
      "metadata": {
        "colab": {
          "base_uri": "https://localhost:8080/"
        },
        "id": "Tpv6RmiFc4WF",
        "outputId": "8a8748e8-0559-4b3c-9f79-40c786277289"
      },
      "source": [
        "if a == b:\n",
        "    print(\"We are the same\")"
      ],
      "execution_count": null,
      "outputs": [
        {
          "output_type": "stream",
          "name": "stdout",
          "text": [
            "We are the same\n"
          ]
        }
      ]
    },
    {
      "cell_type": "code",
      "metadata": {
        "id": "rKMme1X-npPk"
      },
      "source": [
        "number = (3, 4)\n"
      ],
      "execution_count": null,
      "outputs": []
    },
    {
      "cell_type": "code",
      "metadata": {
        "colab": {
          "base_uri": "https://localhost:8080/"
        },
        "id": "RIC5LFCeo4cl",
        "outputId": "7f495fde-a948-4163-f90f-8d981f0ed723"
      },
      "source": [
        "if number == 3:\n",
        "    print(3, \"is odd\")\n",
        "\n",
        "else:\n",
        "    print(4, \"is even\")      "
      ],
      "execution_count": null,
      "outputs": [
        {
          "output_type": "stream",
          "name": "stdout",
          "text": [
            "4 is even\n"
          ]
        }
      ]
    },
    {
      "cell_type": "code",
      "metadata": {
        "colab": {
          "base_uri": "https://localhost:8080/"
        },
        "id": "EiZ7wl91pouU",
        "outputId": "a70a365f-229d-4b93-e7e6-1b13b2350e63"
      },
      "source": [
        "number = int(input(\"Please positive or negative number: \"))\n",
        "\n",
        "if number > 0:\n",
        "    print(\"You entered positive number\")\n",
        "\n",
        "else:\n",
        "    print(\"You entered negative number\")        "
      ],
      "execution_count": null,
      "outputs": [
        {
          "output_type": "stream",
          "name": "stdout",
          "text": [
            "Please positive or negative number: -120\n",
            "You entered negative number\n"
          ]
        }
      ]
    },
    {
      "cell_type": "code",
      "metadata": {
        "colab": {
          "base_uri": "https://localhost:8080/"
        },
        "id": "VtXy--5Hq8t4",
        "outputId": "4dcf019d-da1f-4db4-9ad2-e943994bfa53"
      },
      "source": [
        "numbers = int(input(\"enter number: \"))\n",
        "\n",
        "if numbers > 4:\n",
        "    print(\"The large number is 4\") \n",
        "\n",
        "else:\n",
        "    print(\"The number is lower 4\")       "
      ],
      "execution_count": null,
      "outputs": [
        {
          "output_type": "stream",
          "name": "stdout",
          "text": [
            "enter number: 40\n",
            "The large number is 4\n"
          ]
        }
      ]
    },
    {
      "cell_type": "code",
      "metadata": {
        "id": "4lVUZmBysg3k",
        "colab": {
          "base_uri": "https://localhost:8080/",
          "height": 34
        },
        "outputId": "9e4b905b-a5cd-4f80-cb49-e07579f06ca5"
      },
      "source": [
        "txt = \" Hello World \"\n",
        "x = txt.strip()\n",
        "x"
      ],
      "execution_count": null,
      "outputs": [
        {
          "output_type": "execute_result",
          "data": {
            "application/vnd.google.colaboratory.intrinsic+json": {
              "type": "string"
            },
            "text/plain": [
              "'Hello World'"
            ]
          },
          "metadata": {},
          "execution_count": 3
        }
      ]
    },
    {
      "cell_type": "code",
      "metadata": {
        "colab": {
          "base_uri": "https://localhost:8080/",
          "height": 34
        },
        "id": "apSQcGBL1hSr",
        "outputId": "00219dc3-51cf-4249-e1ab-a269a77aeac0"
      },
      "source": [
        "txt = \"Hello World\"\n",
        "txt = txt.upper()\n",
        "\n",
        "txt\n"
      ],
      "execution_count": null,
      "outputs": [
        {
          "output_type": "execute_result",
          "data": {
            "application/vnd.google.colaboratory.intrinsic+json": {
              "type": "string"
            },
            "text/plain": [
              "'HELLO WORLD'"
            ]
          },
          "metadata": {},
          "execution_count": 4
        }
      ]
    },
    {
      "cell_type": "code",
      "metadata": {
        "colab": {
          "base_uri": "https://localhost:8080/",
          "height": 34
        },
        "id": "N4V8XV1C1zgR",
        "outputId": "5727d396-fe06-46ac-9571-e062d687ab3a"
      },
      "source": [
        "txt = \"Hello World\"\n",
        "txt = txt.replace(\"H\"  , \"J\")\n",
        "\n",
        "txt"
      ],
      "execution_count": null,
      "outputs": [
        {
          "output_type": "execute_result",
          "data": {
            "application/vnd.google.colaboratory.intrinsic+json": {
              "type": "string"
            },
            "text/plain": [
              "'Jello World'"
            ]
          },
          "metadata": {},
          "execution_count": 9
        }
      ]
    },
    {
      "cell_type": "code",
      "metadata": {
        "colab": {
          "base_uri": "https://localhost:8080/"
        },
        "id": "vjC7c2ty2PeE",
        "outputId": "8b7e0e78-7cce-4630-b0ce-676c04d7fe31"
      },
      "source": [
        "txt = \"Hello World\"\n",
        "\n",
        "print(txt.replace(\"o\", \"z\"))\n",
        "\n"
      ],
      "execution_count": null,
      "outputs": [
        {
          "output_type": "stream",
          "name": "stdout",
          "text": [
            "Hellz Wzrld\n"
          ]
        }
      ]
    },
    {
      "cell_type": "code",
      "metadata": {
        "colab": {
          "base_uri": "https://localhost:8080/"
        },
        "id": "hhUTJQX42hoZ",
        "outputId": "220d7c2c-e051-4a8c-e43b-34193a80bffc"
      },
      "source": [
        "age = 39\n",
        "\n",
        "txt = \"My name is John and I am {} \"\n",
        "\n",
        "print(txt.format(age))"
      ],
      "execution_count": null,
      "outputs": [
        {
          "output_type": "stream",
          "name": "stdout",
          "text": [
            "My name is John and I am 39 \n"
          ]
        }
      ]
    },
    {
      "cell_type": "code",
      "metadata": {
        "colab": {
          "base_uri": "https://localhost:8080/"
        },
        "id": "pksc_CTj3c9Q",
        "outputId": "a48892ef-0561-492a-94f6-d9cf48c20ab0"
      },
      "source": [
        "fruits = {\"apple\", \"banana\", \"cherry\"}\n",
        "more_fruits = [\"orange\", \"mango\", \"grapes\"]\n",
        "fruits.update(more_fruits)\n",
        "\n",
        "fruits\n"
      ],
      "execution_count": null,
      "outputs": [
        {
          "output_type": "execute_result",
          "data": {
            "text/plain": [
              "{'apple', 'banana', 'cherry', 'grapes', 'mango', 'orange'}"
            ]
          },
          "metadata": {},
          "execution_count": 16
        }
      ]
    },
    {
      "cell_type": "code",
      "metadata": {
        "colab": {
          "base_uri": "https://localhost:8080/"
        },
        "id": "gvFYgjXQAdj8",
        "outputId": "ecea23fe-1d2b-4b99-f416-840824cddde5"
      },
      "source": [
        "number = 0 \n",
        "\n",
        "while number < 6:\n",
        "  print(number)\n",
        "  number += 1\n",
        "\n",
        "print(\"now, number is greater than6\")\n"
      ],
      "execution_count": null,
      "outputs": [
        {
          "output_type": "stream",
          "name": "stdout",
          "text": [
            "0\n",
            "1\n",
            "2\n",
            "3\n",
            "4\n",
            "5\n",
            "now, number is greater than6\n"
          ]
        }
      ]
    },
    {
      "cell_type": "code",
      "metadata": {
        "colab": {
          "base_uri": "https://localhost:8080/"
        },
        "id": "tWyp5nbCAt9m",
        "outputId": "276c1f3f-8690-49ad-8ed1-c7ac650806e1"
      },
      "source": [
        "my_list=[\"a\", \"b\", \"c\", \"d\", \"e\"]\n",
        "\n",
        "c = 0 \n",
        "\n",
        "while c < len(my_list):\n",
        "  print(b)\n",
        "  c += 1"
      ],
      "execution_count": null,
      "outputs": [
        {
          "output_type": "stream",
          "name": "stdout",
          "text": [
            "5\n",
            "5\n",
            "5\n",
            "5\n",
            "5\n"
          ]
        }
      ]
    },
    {
      "cell_type": "code",
      "metadata": {
        "id": "yigE4AS9Dn9O"
      },
      "source": [
        ""
      ],
      "execution_count": null,
      "outputs": []
    },
    {
      "cell_type": "code",
      "metadata": {
        "id": "gxLyHvOdCZIt",
        "colab": {
          "base_uri": "https://localhost:8080/"
        },
        "outputId": "ab84e0ae-4b65-4469-f3a9-b43547d0872c"
      },
      "source": [
        "for i in range(1, 10):\n",
        "    print(str(i)*i)"
      ],
      "execution_count": null,
      "outputs": [
        {
          "output_type": "stream",
          "name": "stdout",
          "text": [
            "1\n",
            "22\n",
            "333\n",
            "4444\n",
            "55555\n",
            "666666\n",
            "7777777\n",
            "88888888\n",
            "999999999\n"
          ]
        }
      ]
    },
    {
      "cell_type": "code",
      "metadata": {
        "colab": {
          "base_uri": "https://localhost:8080/"
        },
        "id": "pvvzwsXgpOcx",
        "outputId": "b9dfd489-8e0d-4fa7-d4f6-8ca881f7cd1c"
      },
      "source": [
        "print(*range(11))"
      ],
      "execution_count": null,
      "outputs": [
        {
          "output_type": "stream",
          "name": "stdout",
          "text": [
            "0 1 2 3 4 5 6 7 8 9 10\n"
          ]
        }
      ]
    },
    {
      "cell_type": "code",
      "metadata": {
        "colab": {
          "base_uri": "https://localhost:8080/"
        },
        "id": "BDXJO3bmsoXO",
        "outputId": "7ef10f14-7b0a-4c1b-c013-91f360be79c3"
      },
      "source": [
        "print(*('seperaate'))"
      ],
      "execution_count": null,
      "outputs": [
        {
          "output_type": "stream",
          "name": "stdout",
          "text": [
            "s e p e r a a t e\n"
          ]
        }
      ]
    },
    {
      "cell_type": "code",
      "metadata": {
        "id": "A6LtB-MdsS2z"
      },
      "source": [
        "text = ['one', 'two', 'three', 'four', 'five']\n",
        "numbers = [1, 2, 3, 4, 5]\n",
        "for x, y in zip(text, numbers):\n",
        "\tprint(x, ':', y)"
      ],
      "execution_count": null,
      "outputs": []
    },
    {
      "cell_type": "code",
      "metadata": {
        "id": "g3Xl2DX1ueY-"
      },
      "source": [
        "numbers = [1, 2, 3, 4, 5, 6, 7, 8, 9, 10] \n",
        "\n",
        "evens = []\n",
        "odds = []\n",
        "i = 0\n",
        "for i in range(10):\n",
        "  if i+1 > i:\n",
        "     odds.append(i))\n",
        "  else:\n",
        "     evens.append(i)) \n",
        "\n",
        "\n",
        "print     \n",
        "\n",
        "     \n",
        "      "
      ],
      "execution_count": null,
      "outputs": []
    },
    {
      "cell_type": "code",
      "metadata": {
        "id": "O5eFfr0hvn2K"
      },
      "source": [
        "numbers = (11, 36, 33, 66, 89, 21, 32, 16, 10)"
      ],
      "execution_count": null,
      "outputs": []
    },
    {
      "cell_type": "code",
      "metadata": {
        "colab": {
          "base_uri": "https://localhost:8080/"
        },
        "id": "f8trfttMxMTI",
        "outputId": "1786c387-f1dc-4696-8774-abbfa8a617db"
      },
      "source": [
        "odds = 0\n",
        "evens = 0\n",
        "\n",
        "for i in numbers :\n",
        "    \n",
        "    if i % 2 == 0:\n",
        "        evens += 1\n",
        "\n",
        "    else:\n",
        "        odds += 1\n",
        "\n",
        "print(\"evens count :\", evens)\n",
        "\n",
        "print(\"odds count :\", odds)"
      ],
      "execution_count": null,
      "outputs": [
        {
          "output_type": "stream",
          "name": "stdout",
          "text": [
            "evens count : 5\n",
            "odds count : 4\n"
          ]
        }
      ]
    },
    {
      "cell_type": "code",
      "metadata": {
        "colab": {
          "base_uri": "https://localhost:8080/"
        },
        "id": "uPQPEfcjTT24",
        "outputId": "992de4e9-1b29-42ca-db88-9a2cb27e9c6c"
      },
      "source": [
        "T = (1, 2, 3, 4, 5, 6, 7, 8)\n",
        "\n",
        "print(T[6])"
      ],
      "execution_count": null,
      "outputs": [
        {
          "output_type": "stream",
          "name": "stdout",
          "text": [
            "7\n"
          ]
        }
      ]
    },
    {
      "cell_type": "code",
      "metadata": {
        "colab": {
          "base_uri": "https://localhost:8080/"
        },
        "id": "XifQUmVgTZIU",
        "outputId": "aec20a2b-5922-4d7f-9b37-ca76b94a5b89"
      },
      "source": [
        "print(T.index(3))\n",
        "print(5)"
      ],
      "execution_count": null,
      "outputs": [
        {
          "output_type": "stream",
          "name": "stdout",
          "text": [
            "2\n",
            "5\n"
          ]
        }
      ]
    },
    {
      "cell_type": "code",
      "metadata": {
        "colab": {
          "base_uri": "https://localhost:8080/"
        },
        "id": "qH7dKfBPTjbn",
        "outputId": "a3e6fd3e-67a8-4ee2-c5fc-a41c2d5ed057"
      },
      "source": [
        "D = {1 : 1, 2 : '2', '1' : 1, '2' : 3}\n",
        "\n",
        "print(type(D))"
      ],
      "execution_count": null,
      "outputs": [
        {
          "output_type": "stream",
          "name": "stdout",
          "text": [
            "<class 'dict'>\n"
          ]
        }
      ]
    },
    {
      "cell_type": "code",
      "metadata": {
        "colab": {
          "base_uri": "https://localhost:8080/"
        },
        "id": "2PBJI-eXUS2x",
        "outputId": "4bcc034c-6a1a-4a5b-b123-7979c8b3e3fe"
      },
      "source": [
        "D = {1 : 1, 2 : '2', '1' : 1, '2' : 3}\n",
        "D['1'] = 2\n",
        "print(D[D[D[str(D[1])]]])\n"
      ],
      "execution_count": null,
      "outputs": [
        {
          "output_type": "stream",
          "name": "stdout",
          "text": [
            "3\n"
          ]
        }
      ]
    },
    {
      "cell_type": "code",
      "metadata": {
        "id": "BbAVzPdOV-j1",
        "colab": {
          "base_uri": "https://localhost:8080/"
        },
        "outputId": "5d84df61-b6ed-406c-e17f-9497bfdafbba"
      },
      "source": [
        "set1 = {1, 2, 3}\n",
        "set2 = set1.copy()\n",
        "set2.add(4)\n",
        "print(set1)\n"
      ],
      "execution_count": null,
      "outputs": [
        {
          "output_type": "stream",
          "name": "stdout",
          "text": [
            "{1, 2, 3}\n"
          ]
        }
      ]
    },
    {
      "cell_type": "code",
      "metadata": {
        "id": "PgXoECNJMKkI"
      },
      "source": [
        "number = (1, 3)"
      ],
      "execution_count": null,
      "outputs": []
    },
    {
      "cell_type": "code",
      "metadata": {
        "id": "_hwQ2s5wMxVy"
      },
      "source": [
        "sample_list = list(range(10, 100, 10))\n",
        "\n",
        "for i in range(0, len(sample_list), 1):\n",
        "    sample_list[i] = sample_list[i] * 3\n",
        "    "
      ],
      "execution_count": null,
      "outputs": []
    },
    {
      "cell_type": "code",
      "metadata": {
        "colab": {
          "base_uri": "https://localhost:8080/"
        },
        "id": "n5Kn43AqROKJ",
        "outputId": "83af1302-cfb3-481a-b1cd-251ee7c386e7"
      },
      "source": [
        "print(sample_list)"
      ],
      "execution_count": null,
      "outputs": [
        {
          "output_type": "stream",
          "name": "stdout",
          "text": [
            "[30, 60, 90, 120, 150, 180, 210, 240, 270]\n"
          ]
        }
      ]
    },
    {
      "cell_type": "code",
      "metadata": {
        "id": "JpuS2ZppR0Fr"
      },
      "source": [
        "number = 23"
      ],
      "execution_count": null,
      "outputs": []
    },
    {
      "cell_type": "code",
      "metadata": {
        "colab": {
          "base_uri": "https://localhost:8080/"
        },
        "id": "2LOJrfR-X6rR",
        "outputId": "92ef8e96-cdf4-4c00-9bc7-e3b115c8cc94"
      },
      "source": [
        "if number >= 10:\n",
        "    print(\"the number is greater than 10\")\n",
        "\n",
        "else:\n",
        "    print(\"the number is less than 10\")"
      ],
      "execution_count": null,
      "outputs": [
        {
          "output_type": "stream",
          "name": "stdout",
          "text": [
            "the number is greater than 10\n"
          ]
        }
      ]
    },
    {
      "cell_type": "code",
      "metadata": {
        "id": "t2KuSIHuYh7z"
      },
      "source": [
        ""
      ],
      "execution_count": null,
      "outputs": []
    }
  ]
}